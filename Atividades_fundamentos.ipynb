{
 "cells": [
  {
   "cell_type": "markdown",
   "metadata": {},
   "source": [
    "# <font color=\"#306998\">Atidades revisão de fundamentos python</font>\n",
    "\n",
    "### 1 - Crie um programa que imprima os números de 1 a 10 usando um laço for"
   ]
  },
  {
   "cell_type": "code",
   "execution_count": null,
   "metadata": {},
   "outputs": [],
   "source": [
    "for number in range(1,11):\n",
    "    print(number)"
   ]
  },
  {
   "cell_type": "markdown",
   "metadata": {},
   "source": [
    "### 2 - Crie um programa que imprima os números de 1 a 10 usando um laço while"
   ]
  },
  {
   "cell_type": "code",
   "execution_count": null,
   "metadata": {},
   "outputs": [],
   "source": [
    "number = 1\n",
    "while number != 11:\n",
    "    print(number)\n",
    "    number += 1"
   ]
  },
  {
   "cell_type": "markdown",
   "metadata": {},
   "source": [
    "### 3 - Crie uma função que receba dois números e retorne a soma deles."
   ]
  },
  {
   "cell_type": "code",
   "execution_count": null,
   "metadata": {},
   "outputs": [],
   "source": [
    "a = int(input(\"Informe o primeiro numero: \"))\n",
    "b = int(input(\"Informe o segundo numero: \"))\n",
    "print(f\"Soma: {a + b}\")"
   ]
  },
  {
   "cell_type": "markdown",
   "metadata": {},
   "source": [
    "### 4 - Escreva um programa que leia um número e informe se ele é positivo, negativo ou zero."
   ]
  },
  {
   "cell_type": "code",
   "execution_count": null,
   "metadata": {},
   "outputs": [],
   "source": [
    "number = int(input(\"informe o numero par ser verificado\"))\n",
    "if number > 0:\n",
    "    print(\"Positivo\")\n",
    "elif number < 0:\n",
    "    print(\"Negativo\")\n",
    "else:\n",
    "    print(\"Zero\")"
   ]
  },
  {
   "cell_type": "markdown",
   "metadata": {},
   "source": [
    "### 5 - Crie um programa que peça um nome e exiba uma saudação personalizada.\n"
   ]
  },
  {
   "cell_type": "code",
   "execution_count": null,
   "metadata": {},
   "outputs": [],
   "source": [
    "nome = str(input(\"Informe seu nome: \"))\n",
    "print (f\"Bem vindo {nome}\")"
   ]
  },
  {
   "cell_type": "markdown",
   "metadata": {},
   "source": [
    "### 6 - Faça um programa que calcule a média de três notas informadas pelo usuário.\n"
   ]
  },
  {
   "cell_type": "code",
   "execution_count": null,
   "metadata": {},
   "outputs": [],
   "source": [
    "a = int(input(\"informe o primeiro numero: \"))\n",
    "b = int(input(\"informe o segundo numero: \"))\n",
    "c = int(input(\"informe o terceiro numero: \"))\n",
    "\n",
    "media = (a + b + c)/3\n",
    "print(media)"
   ]
  },
  {
   "cell_type": "markdown",
   "metadata": {},
   "source": [
    "### 7 - Crie um programa que converta temperatura de Celsius para Fahrenheit."
   ]
  },
  {
   "cell_type": "code",
   "execution_count": 5,
   "metadata": {},
   "outputs": [
    {
     "name": "stdout",
     "output_type": "stream",
     "text": [
      "Em fahrenheitm esta fazendo 114.8\n"
     ]
    }
   ],
   "source": [
    "celcius = int(input(\"Informe quantos Celcius esta fazendo: \"))\n",
    "\n",
    "fahrenheit = (celcius * 9/5) + 32\n",
    "\n",
    "print(f\"Em fahrenheitm esta fazendo {fahrenheit}\")"
   ]
  },
  {
   "cell_type": "markdown",
   "metadata": {},
   "source": [
    "### 8 - Escreva um programa que leia um número e exiba sua tabuada de 1"
   ]
  },
  {
   "cell_type": "code",
   "execution_count": null,
   "metadata": {},
   "outputs": [],
   "source": [
    "tabuada = int(input(\"informe o numero na qual será feito à tabuada: \"))\n",
    "for number in range(1,11):\n",
    "    print(f\"{tabuada} * {number} = {tabuada * number}\")"
   ]
  },
  {
   "cell_type": "markdown",
   "metadata": {},
   "source": [
    "### 9 - Crie uma função que receba um número e retorne True se ele for primo e False caso contrário."
   ]
  },
  {
   "cell_type": "code",
   "execution_count": null,
   "metadata": {},
   "outputs": [],
   "source": [
    "num_primo = int(input(\"Informe o numero para verificação: \"))\n",
    "def e_primo(num):\n",
    "    if num < 2:\n",
    "        return False\n",
    "    if num in [2,3,5,7,11,13]:\n",
    "        return True\n",
    "    if num % 2 == 0 or num % 3 == 0 or num % 5 == 0 or num % 7 == 0 or num % 11 == 0 or num % 13 == 0:\n",
    "        return False\n",
    "\n",
    "print(e_primo(num_primo))"
   ]
  },
  {
   "cell_type": "markdown",
   "metadata": {},
   "source": [
    "### 10 - Faça um programa que peça um número e imprima todos os divisores dele."
   ]
  },
  {
   "cell_type": "code",
   "execution_count": null,
   "metadata": {},
   "outputs": [],
   "source": [
    "numero = int(input(\"Digite um número: \"))\n",
    "\n",
    "divisores = []\n",
    "\n",
    "for i in range(1, numero + 1):\n",
    "    if numero % i == 0:\n",
    "        divisores.append(i)\n",
    "\n",
    "print(f\"Os divisores de {numero} são: {divisores}\")"
   ]
  },
  {
   "cell_type": "markdown",
   "metadata": {},
   "source": [
    "### 11 - Crie um programa que leia um numero e imprima se ele é par ou impar"
   ]
  },
  {
   "cell_type": "code",
   "execution_count": null,
   "metadata": {},
   "outputs": [],
   "source": [
    "try:\n",
    "    number = int(input(\"Digite um numero: \"))\n",
    "    if number % 2 == 0:\n",
    "        print(\"Par\")\n",
    "    else:\n",
    "        print(\"Impar\")\n",
    "\n",
    "except ValueError:\n",
    "    print(\"Erro: Digite um valor valido\")"
   ]
  },
  {
   "cell_type": "markdown",
   "metadata": {},
   "source": [
    "### 12 - Escreva uma função que verifique se uma string é um palíndromo."
   ]
  },
  {
   "cell_type": "code",
   "execution_count": null,
   "metadata": {},
   "outputs": [],
   "source": [
    "def verificar_palindromo(texto):\n",
    "    texto = texto.replace(\" \", \"\").lower()\n",
    "    return texto == texto[::-1]\n",
    "\n",
    "entrada = input(\"Digite uma palavra ou frase: \")\n",
    "if verificar_palindromo(entrada):\n",
    "    print(\"É um palíndromo!\")\n",
    "else:\n",
    "    print(\"Não é um palíndromo.\")"
   ]
  },
  {
   "cell_type": "markdown",
   "metadata": {},
   "source": [
    "### 13 - Peça dois números ao usuário e imprima o maior deles."
   ]
  },
  {
   "cell_type": "code",
   "execution_count": null,
   "metadata": {},
   "outputs": [],
   "source": [
    "a = int(input(\"Informe o primeiro numero: \"))\n",
    "b = int(input(\"Informe o segundo numero: \"))\n",
    "\n",
    "if a > b:\n",
    "    print(\"o primeiro numero é maior\")\n",
    "elif a < b:\n",
    "    print(\"o segundo numero é maior\")\n",
    "else:\n",
    "    print(\"os numeros são iguais\")"
   ]
  },
  {
   "cell_type": "markdown",
   "metadata": {},
   "source": [
    "### 14 - Crie um programa que gere e imprima 10 números aleatórios entre 1 e 100."
   ]
  },
  {
   "cell_type": "code",
   "execution_count": null,
   "metadata": {},
   "outputs": [],
   "source": [
    "import random\n",
    "for number in range(10):\n",
    "    num1_100 = random.randint(1,100)\n",
    "    print(num1_100)"
   ]
  },
  {
   "cell_type": "markdown",
   "metadata": {},
   "source": [
    "### 15 - Escreva um programa que peça o nome do usuário e imprima as iniciais em maiúsculas."
   ]
  },
  {
   "cell_type": "code",
   "execution_count": null,
   "metadata": {},
   "outputs": [],
   "source": [
    "nome_maiusculo = input(\"informe seu nome usando letras minusculas \").title()\n",
    "\n",
    "print(nome_maiusculo)"
   ]
  }
 ],
 "metadata": {
  "kernelspec": {
   "display_name": "Python 3",
   "language": "python",
   "name": "python3"
  },
  "language_info": {
   "codemirror_mode": {
    "name": "ipython",
    "version": 3
   },
   "file_extension": ".py",
   "mimetype": "text/x-python",
   "name": "python",
   "nbconvert_exporter": "python",
   "pygments_lexer": "ipython3",
   "version": "3.13.2"
  }
 },
 "nbformat": 4,
 "nbformat_minor": 2
}
